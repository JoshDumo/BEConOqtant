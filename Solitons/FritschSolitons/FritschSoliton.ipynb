{
 "cells": [
  {
   "cell_type": "markdown",
   "id": "8b6bd76b",
   "metadata": {},
   "source": [
    "# Fritsch Solition\n",
    "Author: Joshua D. JOHN\n",
    "Date: 2024/07/21\n",
    "\n",
    "This is an implementation of Fritsch Solitons. What I am calling the Fritsch method is a way to create dark solitons at arbitrary position and velocity by simultaneously engineering the amplitude and phase of the condensate wave function. This is introduced as a better approach compared to the technique demonstrated before, which manipulated the condensate phase only.\n",
    "\n",
    "* Fritsch, A.R., Lu, M., Reid, G., Piñeiro, A., & Spielman, I.B. (2020). _Creating solitons with controllable and near-zero velocity in Bose-Einstein condensates._ Physical review. A, 101 5.\n"
   ]
  },
  {
   "cell_type": "code",
   "execution_count": null,
   "id": "24198027",
   "metadata": {},
   "outputs": [],
   "source": [
    "from oqtant.schemas.quantum_matter import QuantumMatterFactory, QuantumMatter\n",
    "from IPython.display import HTML\n",
    "from matplotlib import pyplot as plt\n",
    "from copy import deepcopy\n",
    "import numpy as np\n",
    "from scipy import interpolate\n",
    "from scipy.optimize import curve_fit\n",
    "from scipy.ndimage import gaussian_filter1d\n",
    "\n",
    "\n",
    "qmf = QuantumMatterFactory()\n",
    "qmf.get_login()"
   ]
  },
  {
   "cell_type": "code",
   "execution_count": null,
   "id": "d922a04d",
   "metadata": {},
   "outputs": [],
   "source": [
    "qmf.get_client()"
   ]
  },
  {
   "cell_type": "code",
   "execution_count": null,
   "id": "d8e2f5a1",
   "metadata": {},
   "outputs": [],
   "source": [
    "class FritschSoliton:\n",
    "    def __init__(self)"
   ]
  }
 ],
 "metadata": {
  "kernelspec": {
   "display_name": "Python 3 (ipykernel)",
   "language": "python",
   "name": "python3"
  },
  "language_info": {
   "codemirror_mode": {
    "name": "ipython",
    "version": 3
   },
   "file_extension": ".py",
   "mimetype": "text/x-python",
   "name": "python",
   "nbconvert_exporter": "python",
   "pygments_lexer": "ipython3",
   "version": "3.11.9"
  }
 },
 "nbformat": 4,
 "nbformat_minor": 5
}
