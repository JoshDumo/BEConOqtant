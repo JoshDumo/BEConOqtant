{
 "cells": [
  {
   "cell_type": "markdown",
   "id": "6a01483d",
   "metadata": {},
   "source": [
    "# Fritsch Solition\n",
    "Author: Joshua D. JOHN\n",
    "Date: 2024/07/21\n",
    "\n",
    "This is an implementation of Fritsch Solitons. What I am calling the Fritsch method is a way to create dark solitons at arbitrary position and velocity by simultaneously engineering the amplitude and phase of the condensate wave function. This is introduced as a better approach compared to the technique demonstrated before, which manipulated the condensate phase only.\n",
    "\n",
    "* Fritsch, A.R., Lu, M., Reid, G., Piñeiro, A., & Spielman, I.B. (2020). _Creating solitons with controllable and near-zero velocity in Bose-Einstein condensates._ Physical review. A, 101 5.\n"
   ]
  },
  {
   "cell_type": "code",
   "execution_count": 1,
   "id": "b04c67e7",
   "metadata": {},
   "outputs": [
    {
     "data": {
      "application/vnd.jupyter.widget-view+json": {
       "model_id": "df1ecfdc86b84c3e9390d87f22283065",
       "version_major": 2,
       "version_minor": 0
      },
      "text/plain": [
       "Auth(children=(HBox(children=(Image(value=b'\\x89PNG\\r\\n\\x1a\\n\\x00\\x00\\x00\\rIHDR\\x00\\x00\\x02\\x12\\x00\\x00\\x00\\xc…"
      ]
     },
     "metadata": {},
     "output_type": "display_data"
    }
   ],
   "source": [
    "from oqtant.schemas.quantum_matter import QuantumMatterFactory, QuantumMatter\n",
    "from IPython.display import HTML\n",
    "from matplotlib import pyplot as plt\n",
    "from copy import deepcopy\n",
    "import numpy as np\n",
    "from scipy import interpolate\n",
    "from scipy.optimize import curve_fit\n",
    "from scipy.ndimage import gaussian_filter1d\n",
    "\n",
    "\n",
    "qmf = QuantumMatterFactory()\n",
    "qmf.get_login()"
   ]
  },
  {
   "cell_type": "code",
   "execution_count": 2,
   "id": "212e28fe",
   "metadata": {},
   "outputs": [
    {
     "name": "stdout",
     "output_type": "stream",
     "text": [
      "Job Limits:\n",
      "╒═══════════════╤═══════════════════╤════════════════════╤════════════════════╕\n",
      "│   Daily Limit │   Daily Remaining │   Standard Credits │   Priority Credits │\n",
      "╞═══════════════╪═══════════════════╪════════════════════╪════════════════════╡\n",
      "│           100 │               100 │                100 │                 36 │\n",
      "╘═══════════════╧═══════════════════╧════════════════════╧════════════════════╛\n"
     ]
    }
   ],
   "source": [
    "qmf.get_client()"
   ]
  },
  {
   "cell_type": "code",
   "execution_count": 53,
   "id": "0e4386d8",
   "metadata": {},
   "outputs": [],
   "source": [
    "def RangeValidator(variable, variable_name, lower_lim, upper_lim):\n",
    "    if (variable < lower_lim or variable > upper_lim) : # later use isclose for such comparisons\n",
    "            raise ValueError(variable_name + \" should be in the range [\" + str(lower_lim) + \", \" + str(upper_lim) + \"]\")  \n",
    "    \n",
    "class FritschSoliton:\n",
    "    def __init__(self, \n",
    "                 qmf, \n",
    "                 dimpling_potential = 0.5, \n",
    "                 imprinting_phase = 1.0 , \n",
    "                 hold_time = 0, \n",
    "                 matter_name = \"fritsch sol\"):\n",
    "        RangeValidator(dimpling_potential, \"dimpling_potential\", 0.0, 0.5)\n",
    "        self.dimpling_potential = dimpling_potential\n",
    "        \n",
    "        RangeValidator(imprinting_phase, \"imprinting_phase\", 0, 2.0)\n",
    "        self.imprinting_phase = imprinting_phase\n",
    "        \n",
    "        RangeValidator(hold_time, \"hold_time\", 0, 10.0)\n",
    "        self.hold_time = hold_time\n",
    "        self.matter_name = matter_name\n",
    "        \n",
    "    def set_imprinting_phase(self, imprinting_phase):\n",
    "        RangeValidator(imprinting_phase, \"imprinting_phase\", 0, 2.0)\n",
    "        self.imprinting_phase = imprinting_phase\n",
    "        \n",
    "    def set_dimpling_potential(self, dimpling_potential):\n",
    "        RangeValidator(dimpling_potential, \"dimpling_potential\", 0.0, 0.5)\n",
    "        self.dimpling_potential = dimpling_potential\n",
    "        \n",
    "    def set_hold_time(hold_time):\n",
    "        RangeValidator(hold_time, \"hold_time\", 0, 10.0)\n",
    "        self.hold_time = hold_time\n",
    "    \n",
    "        \n",
    "    def get_matter(self):\n",
    "        dV = self.dimpling_potential\n",
    "        t_p = 0.7 #ms\n",
    "        phV = self.imprinting_phase / (2*np.pi*t_p) # U/h = phi/(2pi*t_p)\n",
    "        dW = 3.0\n",
    "        ramp_up = qmf.create_barrier(\n",
    "            positions=[0, 0, 0],\n",
    "            heights=[0, dV, 0],\n",
    "            widths=[dW, dW, dW],\n",
    "            times=[0, 15, 15.1],\n",
    "            shape=\"GAUSSIAN\",\n",
    "        )\n",
    "\n",
    "        # phase imprint ne snapshot\n",
    "        positions = [-60, 0, 0, 60]\n",
    "        heights_ramp = [0, 0, phV, phV]\n",
    "        snapshot_zero = qmf.create_snapshot(\n",
    "            time=15.2, positions=positions, potentials=heights_ramp, interpolation=\"LINEAR\"\n",
    "        )\n",
    "\n",
    "        snapshot_one = qmf.create_snapshot(\n",
    "            time=15.9,\n",
    "            positions=[0, 0],\n",
    "            potentials=[0, 0],\n",
    "            interpolation=\"LINEAR\",\n",
    "        )\n",
    "        phaser = qmf.create_landscape(snapshots=[snapshot_zero, snapshot_one])\n",
    "\n",
    "        ramp_down = qmf.create_barrier(\n",
    "            positions=[0, 0, 0],\n",
    "            heights=[0, dV, 0],\n",
    "            widths=[dW, dW, dW],\n",
    "            times=[16.0, 16.1, 19.1],\n",
    "            shape=\"GAUSSIAN\",\n",
    "        )\n",
    "        \n",
    "        fritsch_sol = qmf.create_quantum_matter(\n",
    "            temperature=100,\n",
    "            lifetime=80,\n",
    "            time_of_flight=15,\n",
    "            barriers=[ramp_up, ramp_down],\n",
    "            landscape=phaser,\n",
    "            name=self.matter_name,\n",
    "        )\n",
    "        \n",
    "        return fritsch_sol"
   ]
  },
  {
   "cell_type": "code",
   "execution_count": 57,
   "id": "396ed744",
   "metadata": {},
   "outputs": [
    {
     "ename": "ValueError",
     "evalue": "hold_time should be in the range [0, 10.0]",
     "output_type": "error",
     "traceback": [
      "\u001b[1;31m---------------------------------------------------------------------------\u001b[0m",
      "\u001b[1;31mValueError\u001b[0m                                Traceback (most recent call last)",
      "Cell \u001b[1;32mIn[57], line 1\u001b[0m\n\u001b[1;32m----> 1\u001b[0m fs \u001b[38;5;241m=\u001b[39m \u001b[43mFritschSoliton\u001b[49m\u001b[43m(\u001b[49m\u001b[43mqmf\u001b[49m\u001b[43m,\u001b[49m\u001b[43m \u001b[49m\u001b[38;5;241;43m0.5\u001b[39;49m\u001b[43m,\u001b[49m\u001b[43m \u001b[49m\u001b[38;5;241;43m2.0\u001b[39;49m\u001b[43m,\u001b[49m\u001b[43m \u001b[49m\u001b[38;5;241;43m11.0\u001b[39;49m\u001b[43m)\u001b[49m\n\u001b[0;32m      2\u001b[0m fs_matter \u001b[38;5;241m=\u001b[39m fs\u001b[38;5;241m.\u001b[39mget_matter()\n\u001b[0;32m      3\u001b[0m fs_matter\u001b[38;5;241m.\u001b[39mshow_barrier_dynamics()\n",
      "Cell \u001b[1;32mIn[53], line 18\u001b[0m, in \u001b[0;36mFritschSoliton.__init__\u001b[1;34m(self, qmf, dimpling_potential, imprinting_phase, hold_time, matter_name)\u001b[0m\n\u001b[0;32m     15\u001b[0m RangeValidator(imprinting_phase, \u001b[38;5;124m\"\u001b[39m\u001b[38;5;124mimprinting_phase\u001b[39m\u001b[38;5;124m\"\u001b[39m, \u001b[38;5;241m0\u001b[39m, \u001b[38;5;241m2.0\u001b[39m)\n\u001b[0;32m     16\u001b[0m \u001b[38;5;28mself\u001b[39m\u001b[38;5;241m.\u001b[39mimprinting_phase \u001b[38;5;241m=\u001b[39m imprinting_phase\n\u001b[1;32m---> 18\u001b[0m \u001b[43mRangeValidator\u001b[49m\u001b[43m(\u001b[49m\u001b[43mhold_time\u001b[49m\u001b[43m,\u001b[49m\u001b[43m \u001b[49m\u001b[38;5;124;43m\"\u001b[39;49m\u001b[38;5;124;43mhold_time\u001b[39;49m\u001b[38;5;124;43m\"\u001b[39;49m\u001b[43m,\u001b[49m\u001b[43m \u001b[49m\u001b[38;5;241;43m0\u001b[39;49m\u001b[43m,\u001b[49m\u001b[43m \u001b[49m\u001b[38;5;241;43m10.0\u001b[39;49m\u001b[43m)\u001b[49m\n\u001b[0;32m     19\u001b[0m \u001b[38;5;28mself\u001b[39m\u001b[38;5;241m.\u001b[39mhold_time \u001b[38;5;241m=\u001b[39m hold_time\n\u001b[0;32m     20\u001b[0m \u001b[38;5;28mself\u001b[39m\u001b[38;5;241m.\u001b[39mmatter_name \u001b[38;5;241m=\u001b[39m matter_name\n",
      "Cell \u001b[1;32mIn[53], line 3\u001b[0m, in \u001b[0;36mRangeValidator\u001b[1;34m(variable, variable_name, lower_lim, upper_lim)\u001b[0m\n\u001b[0;32m      1\u001b[0m \u001b[38;5;28;01mdef\u001b[39;00m \u001b[38;5;21mRangeValidator\u001b[39m(variable, variable_name, lower_lim, upper_lim):\n\u001b[0;32m      2\u001b[0m     \u001b[38;5;28;01mif\u001b[39;00m (variable \u001b[38;5;241m<\u001b[39m lower_lim \u001b[38;5;129;01mor\u001b[39;00m variable \u001b[38;5;241m>\u001b[39m upper_lim) :\n\u001b[1;32m----> 3\u001b[0m             \u001b[38;5;28;01mraise\u001b[39;00m \u001b[38;5;167;01mValueError\u001b[39;00m(variable_name \u001b[38;5;241m+\u001b[39m \u001b[38;5;124m\"\u001b[39m\u001b[38;5;124m should be in the range [\u001b[39m\u001b[38;5;124m\"\u001b[39m \u001b[38;5;241m+\u001b[39m \u001b[38;5;28mstr\u001b[39m(lower_lim) \u001b[38;5;241m+\u001b[39m \u001b[38;5;124m\"\u001b[39m\u001b[38;5;124m, \u001b[39m\u001b[38;5;124m\"\u001b[39m \u001b[38;5;241m+\u001b[39m \u001b[38;5;28mstr\u001b[39m(upper_lim) \u001b[38;5;241m+\u001b[39m \u001b[38;5;124m\"\u001b[39m\u001b[38;5;124m]\u001b[39m\u001b[38;5;124m\"\u001b[39m)\n",
      "\u001b[1;31mValueError\u001b[0m: hold_time should be in the range [0, 10.0]"
     ]
    }
   ],
   "source": [
    "fs = FritschSoliton(qmf, 0.5, 2.0, 10.0)\n",
    "fs_matter = fs.get_matter()\n",
    "fs_matter.show_barrier_dynamics()"
   ]
  },
  {
   "cell_type": "code",
   "execution_count": null,
   "id": "6656e595",
   "metadata": {},
   "outputs": [],
   "source": []
  }
 ],
 "metadata": {
  "kernelspec": {
   "display_name": "Python 3 (ipykernel)",
   "language": "python",
   "name": "python3"
  },
  "language_info": {
   "codemirror_mode": {
    "name": "ipython",
    "version": 3
   },
   "file_extension": ".py",
   "mimetype": "text/x-python",
   "name": "python",
   "nbconvert_exporter": "python",
   "pygments_lexer": "ipython3",
   "version": "3.11.9"
  }
 },
 "nbformat": 4,
 "nbformat_minor": 5
}
