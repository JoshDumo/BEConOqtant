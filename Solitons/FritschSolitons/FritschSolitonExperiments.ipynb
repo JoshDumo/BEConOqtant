{
 "cells": [
  {
   "cell_type": "markdown",
   "id": "0f66c73c",
   "metadata": {},
   "source": [
    "# Fritsch Solition Experiments\n",
    "Author: Joshua D. JOHN\n",
    "Date: 2024/07/24\n",
    "\n",
    "These are live Fritsch Soliton experiments run on Oqtant. What I am calling the Fritsch method is a way to create dark solitons at arbitrary position and velocity by simultaneously engineering the amplitude and phase of the condensate wave function. This is introduced as a better approach compared to the technique demonstrated before, which manipulated the condensate phase only.\n",
    "\n",
    "* Fritsch, A.R., Lu, M., Reid, G., Piñeiro, A., & Spielman, I.B. (2020). _Creating solitons with controllable and near-zero velocity in Bose-Einstein condensates._ Physical review. A, 101 5."
   ]
  },
  {
   "cell_type": "code",
   "execution_count": null,
   "id": "365c9619",
   "metadata": {},
   "outputs": [],
   "source": []
  }
 ],
 "metadata": {
  "kernelspec": {
   "display_name": "Python 3 (ipykernel)",
   "language": "python",
   "name": "python3"
  },
  "language_info": {
   "codemirror_mode": {
    "name": "ipython",
    "version": 3
   },
   "file_extension": ".py",
   "mimetype": "text/x-python",
   "name": "python",
   "nbconvert_exporter": "python",
   "pygments_lexer": "ipython3",
   "version": "3.11.9"
  }
 },
 "nbformat": 4,
 "nbformat_minor": 5
}
