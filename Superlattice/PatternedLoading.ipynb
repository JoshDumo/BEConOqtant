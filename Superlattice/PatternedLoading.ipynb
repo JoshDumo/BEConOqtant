{
 "cells": [
  {
   "cell_type": "markdown",
   "id": "f116aeaf",
   "metadata": {},
   "source": [
    "# Patterned Loading\n",
    "This is an implementation of the Patterned Loading feature. For the design specification please see the document Specification.md.\n",
    "\n",
    "Ultimately, these tools will be used to reproduce the Patterned Loading experiments explained in the paper"
   ]
  }
 ],
 "metadata": {
  "kernelspec": {
   "display_name": "Python 3 (ipykernel)",
   "language": "python",
   "name": "python3"
  },
  "language_info": {
   "codemirror_mode": {
    "name": "ipython",
    "version": 3
   },
   "file_extension": ".py",
   "mimetype": "text/x-python",
   "name": "python",
   "nbconvert_exporter": "python",
   "pygments_lexer": "ipython3",
   "version": "3.11.9"
  }
 },
 "nbformat": 4,
 "nbformat_minor": 5
}
