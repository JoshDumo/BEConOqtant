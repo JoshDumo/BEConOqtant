{
 "cells": [
  {
   "cell_type": "markdown",
   "id": "e5b0cf37",
   "metadata": {},
   "source": [
    "# Patterned Loading\n",
    "This is an implementation of the Patterned Loading feature. For the design specification please see the document Specification.md.\n",
    "\n",
    "Ultimately, these tools will be used to reproduce the Patterned Loading experiments explained in the paper by S. Peil\n",
    "1. Peil, S. & Porto, J. & Tolra, & Laburthe, B. & Obrecht, John & King, B. & Subbotin, M. & Rolston, Steven & Phillips, William. (2003). Patterned loading of a Bose-Einstein condensate into an optical lattice. Phys. Rev. A. 67. 051603. 10.1103/PhysRevA.67.051603. "
   ]
  },
  {
   "cell_type": "code",
   "execution_count": 1,
   "id": "a1f7d739",
   "metadata": {},
   "outputs": [
    {
     "data": {
      "application/vnd.jupyter.widget-view+json": {
       "model_id": "588e3119305544db90a2f0d7f464ef4d",
       "version_major": 2,
       "version_minor": 0
      },
      "text/plain": [
       "Auth(children=(HBox(children=(Image(value=b'\\x89PNG\\r\\n\\x1a\\n\\x00\\x00\\x00\\rIHDR\\x00\\x00\\x02\\x12\\x00\\x00\\x00\\xc…"
      ]
     },
     "metadata": {},
     "output_type": "display_data"
    }
   ],
   "source": [
    "from oqtant.schemas.quantum_matter import QuantumMatterFactory\n",
    "from oqtant.schemas.quantum_matter import QuantumMatter as qm\n",
    "from oqtant.schemas.output import Gaussian_dist_2D\n",
    "from copy import deepcopy\n",
    "import numpy as np\n",
    "import matplotlib.pyplot as plt\n",
    "from scipy.ndimage import gaussian_filter\n",
    "import scipy.optimize as opt\n",
    "from IPython.display import HTML\n",
    "\n",
    "qmf = QuantumMatterFactory()\n",
    "qmf.get_login()"
   ]
  },
  {
   "cell_type": "code",
   "execution_count": 2,
   "id": "7efa1fb6",
   "metadata": {},
   "outputs": [
    {
     "name": "stdout",
     "output_type": "stream",
     "text": [
      "Job Limits:\n",
      "╒═══════════════╤═══════════════════╤════════════════════╤════════════════════╕\n",
      "│   Daily Limit │   Daily Remaining │   Standard Credits │   Priority Credits │\n",
      "╞═══════════════╪═══════════════════╪════════════════════╪════════════════════╡\n",
      "│           100 │               100 │                100 │                 36 │\n",
      "╘═══════════════╧═══════════════════╧════════════════════╧════════════════════╛\n"
     ]
    }
   ],
   "source": [
    "qmf.get_client()"
   ]
  },
  {
   "cell_type": "code",
   "execution_count": 8,
   "id": "4eb1bd09",
   "metadata": {},
   "outputs": [],
   "source": [
    "class PatternedLoader:\n",
    "    def __init__(self, qmf):\n",
    "        self.qmf = qmf\n",
    "        self.short_lattice = self.Lattice()\n",
    "        self.long_lattice = self.Lattice()\n",
    "    \n",
    "    class Lattice:\n",
    "        def __init__(self, potential=0., period=0., phase=0., delay=0., edge=0., hold=0.):\n",
    "            self.potential = potential\n",
    "            self.period = period\n",
    "            self.phase = phase\n",
    "            self.delay = delay\n",
    "            self.edge = edge\n",
    "            self.hold = hold\n",
    "        \n",
    "        def set_potential(self, potential, period, phase):\n",
    "            self.potential = potential\n",
    "            self.period = period\n",
    "            self.phase = phase\n",
    "            \n",
    "        def set_loading_seq(self,  delay, edge, hold):\n",
    "            self.delay = delay\n",
    "            self.edge = edge\n",
    "            self.hold = hold\n",
    "            \n",
    "        def print_lattice(self):\n",
    "            print(\"potential:\", self.potential)\n",
    "            print(\"period:\", self.period)\n",
    "            \n",
    "    def set_superlattice(self, long, short):\n",
    "        self.short_lattice = short\n",
    "        self.long_lattice = long\n",
    "        \n",
    "        \n",
    "    def prepare_matter(self, name):\n",
    "        matter = self.qmf.create_quantum_matter( # just concept - prepare the matter here\n",
    "            landscape=landscape_slant,\n",
    "            image=\"IN_TRAP\",\n",
    "            lifetime=80,\n",
    "            name = name\n",
    "        )\n",
    "        return matter\n",
    "    "
   ]
  },
  {
   "cell_type": "code",
   "execution_count": 7,
   "id": "c6b9d166",
   "metadata": {},
   "outputs": [],
   "source": [
    "pl = PatternedLoader(qmf)\n",
    "\n",
    "s_pot = 1.\n",
    "s_period = 1e-3\n",
    "s_phase = 0.\n",
    "s_delay = 0.\n",
    "s_edge = 1e-6\n",
    "s_hold = 1e-3\n",
    "short = pl.Lattice()\n",
    "short.print_lattice()\n",
    "short.set_potential(s_pot, s_period, s_phase)\n",
    "short.set_loading_seq(s_delay, s_edge, s_hold)\n",
    "shor"
   ]
  },
  {
   "cell_type": "code",
   "execution_count": null,
   "id": "324a61ca",
   "metadata": {},
   "outputs": [],
   "source": []
  }
 ],
 "metadata": {
  "kernelspec": {
   "display_name": "Python 3 (ipykernel)",
   "language": "python",
   "name": "python3"
  },
  "language_info": {
   "codemirror_mode": {
    "name": "ipython",
    "version": 3
   },
   "file_extension": ".py",
   "mimetype": "text/x-python",
   "name": "python",
   "nbconvert_exporter": "python",
   "pygments_lexer": "ipython3",
   "version": "3.11.9"
  }
 },
 "nbformat": 4,
 "nbformat_minor": 5
}
