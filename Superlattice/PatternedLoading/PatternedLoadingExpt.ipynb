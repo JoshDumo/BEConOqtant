{
 "cells": [
  {
   "cell_type": "markdown",
   "id": "585a8f3c",
   "metadata": {},
   "source": [
    "# Patterned Loading\n",
    "This is an implementation of the Patterned Loading feature. For the design specification please see the document Specification.md.\n",
    "\n",
    "Ultimately, these tools will be used to reproduce the Patterned Loading experiments explained in the paper by S. Peil\n",
    "1. Peil, S. & Porto, J. & Tolra, & Laburthe, B. & Obrecht, John & King, B. & Subbotin, M. & Rolston, Steven & Phillips, William. (2003). Patterned loading of a Bose-Einstein condensate into an optical lattice. Phys. Rev. A. 67. 051603. 10.1103/PhysRevA.67.051603. "
   ]
  },
  {
   "cell_type": "code",
   "execution_count": 2,
   "id": "00f5e4ef",
   "metadata": {},
   "outputs": [
    {
     "data": {
      "application/vnd.jupyter.widget-view+json": {
       "model_id": "4f18d06ef3f64da6a1db97b22e9b2c4b",
       "version_major": 2,
       "version_minor": 0
      },
      "text/plain": [
       "Auth(children=(HBox(children=(Image(value=b'\\x89PNG\\r\\n\\x1a\\n\\x00\\x00\\x00\\rIHDR\\x00\\x00\\x02\\x12\\x00\\x00\\x00\\xc…"
      ]
     },
     "metadata": {},
     "output_type": "display_data"
    }
   ],
   "source": [
    "from oqtant.schemas.quantum_matter import QuantumMatterFactory\n",
    "from oqtant.schemas.quantum_matter import QuantumMatter as qm\n",
    "from oqtant.schemas.output import Gaussian_dist_2D\n",
    "from copy import deepcopy\n",
    "import numpy as np\n",
    "import matplotlib.pyplot as plt\n",
    "from scipy.ndimage import gaussian_filter\n",
    "import scipy.optimize as opt\n",
    "from IPython.display import HTML\n",
    "\n",
    "qmf = QuantumMatterFactory()\n",
    "qmf.get_login()"
   ]
  },
  {
   "cell_type": "code",
   "execution_count": 3,
   "id": "c2668b00",
   "metadata": {},
   "outputs": [
    {
     "name": "stdout",
     "output_type": "stream",
     "text": [
      "Job Limits:\n",
      "╒═══════════════╤═══════════════════╤════════════════════╤════════════════════╕\n",
      "│   Daily Limit │   Daily Remaining │   Standard Credits │   Priority Credits │\n",
      "╞═══════════════╪═══════════════════╪════════════════════╪════════════════════╡\n",
      "│            20 │                20 │                 96 │                  0 │\n",
      "╘═══════════════╧═══════════════════╧════════════════════╧════════════════════╛\n"
     ]
    }
   ],
   "source": [
    "qmf.get_client()"
   ]
  },
  {
   "cell_type": "code",
   "execution_count": 4,
   "id": "d8c893e7",
   "metadata": {},
   "outputs": [],
   "source": [
    "from PatternedLoadingPkg.PatternedLoader import PatternedLoader"
   ]
  },
  {
   "cell_type": "markdown",
   "id": "3429c90a",
   "metadata": {},
   "source": [
    "### Experiment 1: Superlattice"
   ]
  },
  {
   "cell_type": "code",
   "execution_count": 5,
   "id": "82109a75",
   "metadata": {},
   "outputs": [
    {
     "name": "stdout",
     "output_type": "stream",
     "text": [
      "short pot: 10.0\n",
      "long pot: 2.0\n"
     ]
    }
   ],
   "source": [
    "pl = PatternedLoader(qmf)\n",
    "\n",
    "s_pot = 10.0 #kHz\n",
    "s_delay = 2. #ms\n",
    "s_rise = 2. #ms also fall\n",
    "s_hold = 2. #ms\n",
    "short = pl.Lattice()\n",
    "short.set_potential(s_pot)\n",
    "short.set_loading_seq(s_delay, s_rise, s_hold)\n",
    "\n",
    "l_pot = 2. #kHz\n",
    "l_delay = 0. #ms\n",
    "l_rise = 2. #ms also fall\n",
    "l_hold = 2. #ms\n",
    "long = pl.Lattice()\n",
    "\n",
    "long.set_potential(l_pot)\n",
    "long.set_loading_seq(l_delay, l_rise, l_hold)\n",
    "\n",
    "pl.set_superlattice(long, short)\n",
    "pl.print_superlattice()"
   ]
  },
  {
   "cell_type": "code",
   "execution_count": 6,
   "id": "93595102",
   "metadata": {},
   "outputs": [],
   "source": [
    "repeats = 3\n",
    "jobs = []\n",
    "for rep in range(repeats):\n",
    "    name = \"SuperlatticeExp\" + \"_rep_\" + str(rep)\n",
    "    jobs.append(pl.get_matter(name))"
   ]
  },
  {
   "cell_type": "code",
   "execution_count": 7,
   "id": "b2d7efd8",
   "metadata": {},
   "outputs": [
    {
     "name": "stdout",
     "output_type": "stream",
     "text": [
      "Submitting 1 job(s):\n",
      "\n",
      "- Job: SuperlatticeExp_rep_0\n",
      "  Job ID: bfcbecc6-1dd7-429e-80c4-08d7c19ae9d4\n",
      "\n",
      "Tracking 1 job(s):\n",
      "\n",
      "- Job: SuperlatticeExp_rep_0\n",
      "  - RUNNING\n",
      "  - COMPLETE\n",
      "\n",
      "All job(s) complete\n",
      "Submitting 1 job(s):\n",
      "\n",
      "- Job: SuperlatticeExp_rep_1\n",
      "  Job ID: 976a5beb-2674-4cb9-a97a-3e3f4834f39b\n",
      "\n",
      "Tracking 1 job(s):\n",
      "\n",
      "- Job: SuperlatticeExp_rep_1\n",
      "  - RUNNING\n",
      "  - COMPLETE\n",
      "\n",
      "All job(s) complete\n",
      "Submitting 1 job(s):\n",
      "\n",
      "- Job: SuperlatticeExp_rep_2\n",
      "  Job ID: b35c0a23-0def-4c97-8446-89650322be8a\n",
      "\n",
      "Tracking 1 job(s):\n",
      "\n",
      "- Job: SuperlatticeExp_rep_2\n",
      "  - RUNNING\n",
      "  - COMPLETE\n",
      "\n",
      "All job(s) complete\n"
     ]
    },
    {
     "data": {
      "text/plain": [
       "[None, None, None]"
      ]
     },
     "execution_count": 7,
     "metadata": {},
     "output_type": "execute_result"
    }
   ],
   "source": [
    "sim = False\n",
    "track = False\n",
    "if sim == False:\n",
    "    track = True\n",
    "[matter.submit(track=track, sim=sim) for matter in jobs]"
   ]
  },
  {
   "cell_type": "code",
   "execution_count": 8,
   "id": "b0a8b7f8",
   "metadata": {},
   "outputs": [
    {
     "data": {
      "text/plain": [
       "[None, None, None]"
      ]
     },
     "execution_count": 8,
     "metadata": {},
     "output_type": "execute_result"
    }
   ],
   "source": [
    "[matter.get_result() for matter in jobs]"
   ]
  },
  {
   "cell_type": "code",
   "execution_count": 9,
   "id": "3bb5c397",
   "metadata": {},
   "outputs": [
    {
     "name": "stdout",
     "output_type": "stream",
     "text": [
      "Wrote file: \"C:\\Users\\Josh\\Projects\\BEConOqtant\\Superlattice\\PatternedLoading\\Data\\SuperlatticeExp_rep_0.txt\"\n",
      "Wrote file: \"C:\\Users\\Josh\\Projects\\BEConOqtant\\Superlattice\\PatternedLoading\\Data\\SuperlatticeExp_rep_1.txt\"\n",
      "Wrote file: \"C:\\Users\\Josh\\Projects\\BEConOqtant\\Superlattice\\PatternedLoading\\Data\\SuperlatticeExp_rep_2.txt\"\n"
     ]
    }
   ],
   "source": [
    "import os\n",
    "home = os.path.expanduser(\"~\")\n",
    "for matter in jobs:\n",
    "    data_path = f\"{home}\\Projects\\BEConOqtant\\Superlattice\\PatternedLoading\\Data\\\\{matter.name}.txt\"\n",
    "    matter.write_to_file(file_path=data_path)"
   ]
  },
  {
   "cell_type": "markdown",
   "id": "7c03b7c9",
   "metadata": {},
   "source": [
    "### Experiment 2: Long Only"
   ]
  },
  {
   "cell_type": "code",
   "execution_count": 12,
   "id": "b0a9b0d2",
   "metadata": {},
   "outputs": [
    {
     "name": "stdout",
     "output_type": "stream",
     "text": [
      "short pot: 0.0\n",
      "long pot: 2.0\n"
     ]
    }
   ],
   "source": [
    "pl = PatternedLoader(qmf, \"LongOnlyExpt\")\n",
    "\n",
    "s_pot = 0.0 #kHz\n",
    "s_delay = 2. #ms\n",
    "s_rise = 2. #ms also fall\n",
    "s_hold = 2. #ms\n",
    "short = pl.Lattice()\n",
    "short.set_potential(s_pot)\n",
    "short.set_loading_seq(s_delay, s_rise, s_hold)\n",
    "\n",
    "l_pot = 2. #kHz\n",
    "l_delay = 0. #ms\n",
    "l_rise = 2. #ms also fall\n",
    "l_hold = 2. #ms\n",
    "long = pl.Lattice()\n",
    "\n",
    "long.set_potential(l_pot)\n",
    "long.set_loading_seq(l_delay, l_rise, l_hold)\n",
    "\n",
    "pl.set_superlattice(long, short)\n",
    "pl.print_superlattice()"
   ]
  },
  {
   "cell_type": "code",
   "execution_count": 13,
   "id": "af61584a",
   "metadata": {},
   "outputs": [],
   "source": [
    "repeats = 3\n",
    "jobs = []\n",
    "for rep in range(repeats):\n",
    "    name = \"LongOnlyExpt\" + \"_rep_\" + str(rep)\n",
    "    jobs.append(pl.get_matter(name))"
   ]
  },
  {
   "cell_type": "code",
   "execution_count": 14,
   "id": "de7dfb4b",
   "metadata": {},
   "outputs": [
    {
     "name": "stdout",
     "output_type": "stream",
     "text": [
      "Submitting 1 job(s):\n",
      "\n",
      "- Job: LongOnlyExpt_rep_0\n",
      "  Job ID: 0339e46e-a10d-47dc-8dc3-0add622de17d\n",
      "\n",
      "Tracking 1 job(s):\n",
      "\n",
      "- Job: LongOnlyExpt_rep_0\n",
      "  - RUNNING\n",
      "  - COMPLETE\n",
      "\n",
      "All job(s) complete\n",
      "Submitting 1 job(s):\n",
      "\n",
      "- Job: LongOnlyExpt_rep_1\n",
      "  Job ID: 54b00d35-bf25-4e46-b125-a567aeadd62e\n",
      "\n",
      "Tracking 1 job(s):\n",
      "\n",
      "- Job: LongOnlyExpt_rep_1\n",
      "  - RUNNING\n",
      "  - COMPLETE\n",
      "\n",
      "All job(s) complete\n",
      "Submitting 1 job(s):\n",
      "\n",
      "- Job: LongOnlyExpt_rep_2\n",
      "  Job ID: 7cd41784-2137-4c10-8880-03204265250b\n",
      "\n",
      "Tracking 1 job(s):\n",
      "\n",
      "- Job: LongOnlyExpt_rep_2\n",
      "  - RUNNING\n",
      "  - COMPLETE\n",
      "\n",
      "All job(s) complete\n"
     ]
    },
    {
     "data": {
      "text/plain": [
       "[None, None, None]"
      ]
     },
     "execution_count": 14,
     "metadata": {},
     "output_type": "execute_result"
    }
   ],
   "source": [
    "sim = False\n",
    "track = False\n",
    "if sim == False:\n",
    "    track = True\n",
    "[matter.submit(track=track, sim=sim) for matter in jobs]"
   ]
  },
  {
   "cell_type": "code",
   "execution_count": 16,
   "id": "7aae19aa",
   "metadata": {},
   "outputs": [
    {
     "data": {
      "text/plain": [
       "[None, None, None]"
      ]
     },
     "execution_count": 16,
     "metadata": {},
     "output_type": "execute_result"
    }
   ],
   "source": [
    "[matter.get_result() for matter in jobs]"
   ]
  },
  {
   "cell_type": "code",
   "execution_count": 17,
   "id": "5c79c69d",
   "metadata": {},
   "outputs": [
    {
     "name": "stdout",
     "output_type": "stream",
     "text": [
      "Wrote file: \"C:\\Users\\Josh\\Projects\\BEConOqtant\\Superlattice\\PatternedLoading\\Data\\LongOnlyExpt_rep_0.txt\"\n",
      "Wrote file: \"C:\\Users\\Josh\\Projects\\BEConOqtant\\Superlattice\\PatternedLoading\\Data\\LongOnlyExpt_rep_1.txt\"\n",
      "Wrote file: \"C:\\Users\\Josh\\Projects\\BEConOqtant\\Superlattice\\PatternedLoading\\Data\\LongOnlyExpt_rep_2.txt\"\n"
     ]
    }
   ],
   "source": [
    "import os\n",
    "home = os.path.expanduser(\"~\")\n",
    "for matter in jobs:\n",
    "    data_path = f\"{home}\\Projects\\BEConOqtant\\Superlattice\\PatternedLoading\\Data\\\\{matter.name}.txt\"\n",
    "    matter.write_to_file(file_path=data_path)"
   ]
  },
  {
   "cell_type": "markdown",
   "id": "0a605abb",
   "metadata": {},
   "source": [
    "### Experiment 3: Short Only"
   ]
  },
  {
   "cell_type": "code",
   "execution_count": 18,
   "id": "994ecb89",
   "metadata": {},
   "outputs": [
    {
     "name": "stdout",
     "output_type": "stream",
     "text": [
      "short pot: 10.0\n",
      "long pot: 0.0\n"
     ]
    }
   ],
   "source": [
    "pl = PatternedLoader(qmf, \"ShortOnlyExpt\")\n",
    "\n",
    "s_pot = 10.0 #kHz\n",
    "s_delay = 2. #ms\n",
    "s_rise = 2. #ms also fall\n",
    "s_hold = 2. #ms\n",
    "short = pl.Lattice()\n",
    "short.set_potential(s_pot)\n",
    "short.set_loading_seq(s_delay, s_rise, s_hold)\n",
    "\n",
    "l_pot = 0. #kHz\n",
    "l_delay = 0. #ms\n",
    "l_rise = 2. #ms also fall\n",
    "l_hold = 2. #ms\n",
    "long = pl.Lattice()\n",
    "\n",
    "long.set_potential(l_pot)\n",
    "long.set_loading_seq(l_delay, l_rise, l_hold)\n",
    "\n",
    "pl.set_superlattice(long, short)\n",
    "pl.print_superlattice()"
   ]
  },
  {
   "cell_type": "code",
   "execution_count": 19,
   "id": "6ec8d99e",
   "metadata": {},
   "outputs": [],
   "source": [
    "repeats = 3\n",
    "jobs = []\n",
    "for rep in range(repeats):\n",
    "    name = \"ShortOnlyExpt\" + \"_rep_\" + str(rep)\n",
    "    jobs.append(pl.get_matter(name))"
   ]
  },
  {
   "cell_type": "code",
   "execution_count": 20,
   "id": "c07e2720",
   "metadata": {},
   "outputs": [
    {
     "name": "stdout",
     "output_type": "stream",
     "text": [
      "Submitting 1 job(s):\n",
      "\n",
      "- Job: ShortOnlyExpt_rep_0\n",
      "  Job ID: 149ce990-7d92-4cb7-8fe9-002065e3275e\n",
      "\n",
      "Tracking 1 job(s):\n",
      "\n",
      "- Job: ShortOnlyExpt_rep_0\n",
      "  - RUNNING\n",
      "  - COMPLETE\n",
      "\n",
      "All job(s) complete\n",
      "Submitting 1 job(s):\n",
      "\n",
      "- Job: ShortOnlyExpt_rep_1\n",
      "  Job ID: ca1cd874-9d9b-4a19-b19b-3a403958c15c\n",
      "\n",
      "Tracking 1 job(s):\n",
      "\n",
      "- Job: ShortOnlyExpt_rep_1\n",
      "  - RUNNING\n",
      "  - COMPLETE\n",
      "\n",
      "All job(s) complete\n",
      "Submitting 1 job(s):\n",
      "\n",
      "- Job: ShortOnlyExpt_rep_2\n",
      "  Job ID: 3590f468-98f0-4bfd-afc8-033e38070110\n",
      "\n",
      "Tracking 1 job(s):\n",
      "\n",
      "- Job: ShortOnlyExpt_rep_2\n",
      "  - RUNNING\n",
      "  - COMPLETE\n",
      "\n",
      "All job(s) complete\n"
     ]
    },
    {
     "data": {
      "text/plain": [
       "[None, None, None]"
      ]
     },
     "execution_count": 20,
     "metadata": {},
     "output_type": "execute_result"
    }
   ],
   "source": [
    "sim = False\n",
    "track = False\n",
    "if sim == False:\n",
    "    track = True\n",
    "[matter.submit(track=track, sim=sim) for matter in jobs]"
   ]
  },
  {
   "cell_type": "code",
   "execution_count": 21,
   "id": "cc6f3fd8",
   "metadata": {},
   "outputs": [
    {
     "data": {
      "text/plain": [
       "[None, None, None]"
      ]
     },
     "execution_count": 21,
     "metadata": {},
     "output_type": "execute_result"
    }
   ],
   "source": [
    "[matter.get_result() for matter in jobs]"
   ]
  },
  {
   "cell_type": "code",
   "execution_count": 22,
   "id": "edb7cab6",
   "metadata": {},
   "outputs": [
    {
     "name": "stdout",
     "output_type": "stream",
     "text": [
      "Wrote file: \"C:\\Users\\Josh\\Projects\\BEConOqtant\\Superlattice\\PatternedLoading\\Data\\ShortOnlyExpt_rep_0.txt\"\n",
      "Wrote file: \"C:\\Users\\Josh\\Projects\\BEConOqtant\\Superlattice\\PatternedLoading\\Data\\ShortOnlyExpt_rep_1.txt\"\n",
      "Wrote file: \"C:\\Users\\Josh\\Projects\\BEConOqtant\\Superlattice\\PatternedLoading\\Data\\ShortOnlyExpt_rep_2.txt\"\n"
     ]
    }
   ],
   "source": [
    "import os\n",
    "home = os.path.expanduser(\"~\")\n",
    "for matter in jobs:\n",
    "    data_path = f\"{home}\\Projects\\BEConOqtant\\Superlattice\\PatternedLoading\\Data\\\\{matter.name}.txt\"\n",
    "    matter.write_to_file(file_path=data_path)"
   ]
  },
  {
   "cell_type": "markdown",
   "id": "a3eaf414",
   "metadata": {},
   "source": [
    "### Experiment 4: No Pattern"
   ]
  },
  {
   "cell_type": "code",
   "execution_count": 24,
   "id": "e226ec34",
   "metadata": {},
   "outputs": [
    {
     "name": "stdout",
     "output_type": "stream",
     "text": [
      "short pot: 0.0\n",
      "long pot: 0.0\n"
     ]
    }
   ],
   "source": [
    "pl = PatternedLoader(qmf, \"NoPattern\")\n",
    "\n",
    "s_pot = 0.0 #kHz\n",
    "s_delay = 2. #ms\n",
    "s_rise = 2. #ms also fall\n",
    "s_hold = 2. #ms\n",
    "short = pl.Lattice()\n",
    "short.set_potential(s_pot)\n",
    "short.set_loading_seq(s_delay, s_rise, s_hold)\n",
    "\n",
    "l_pot = 0. #kHz\n",
    "l_delay = 0. #ms\n",
    "l_rise = 2. #ms also fall\n",
    "l_hold = 2. #ms\n",
    "long = pl.Lattice()\n",
    "\n",
    "long.set_potential(l_pot)\n",
    "long.set_loading_seq(l_delay, l_rise, l_hold)\n",
    "\n",
    "pl.set_superlattice(long, short)\n",
    "pl.print_superlattice()"
   ]
  },
  {
   "cell_type": "code",
   "execution_count": 25,
   "id": "e0d62515",
   "metadata": {},
   "outputs": [],
   "source": [
    "repeats = 3\n",
    "jobs = []\n",
    "for rep in range(repeats):\n",
    "    name = \"NoPatternExpt\" + \"_rep_\" + str(rep)\n",
    "    jobs.append(pl.get_matter(name))"
   ]
  },
  {
   "cell_type": "code",
   "execution_count": 26,
   "id": "7e54b341",
   "metadata": {},
   "outputs": [
    {
     "name": "stdout",
     "output_type": "stream",
     "text": [
      "Submitting 1 job(s):\n",
      "\n",
      "- Job: NoPatternExpt_rep_0\n",
      "  Job ID: e053a7b1-fb24-4f6a-b2bd-bdd1f07fccae\n",
      "\n",
      "Tracking 1 job(s):\n",
      "\n",
      "- Job: NoPatternExpt_rep_0\n",
      "  - RUNNING\n",
      "  - COMPLETE\n",
      "\n",
      "All job(s) complete\n",
      "Submitting 1 job(s):\n",
      "\n",
      "- Job: NoPatternExpt_rep_1\n",
      "  Job ID: e324bd6e-fe08-4364-a474-083e5e2c36f5\n",
      "\n",
      "Tracking 1 job(s):\n",
      "\n",
      "- Job: NoPatternExpt_rep_1\n",
      "  - RUNNING\n",
      "  - COMPLETE\n",
      "\n",
      "All job(s) complete\n",
      "Submitting 1 job(s):\n",
      "\n",
      "- Job: NoPatternExpt_rep_2\n",
      "  Job ID: 2c0bac24-2e71-470e-b4f9-79884a1a8ecd\n",
      "\n",
      "Tracking 1 job(s):\n",
      "\n",
      "- Job: NoPatternExpt_rep_2\n",
      "  - RUNNING\n",
      "  - COMPLETE\n",
      "\n",
      "All job(s) complete\n"
     ]
    },
    {
     "data": {
      "text/plain": [
       "[None, None, None]"
      ]
     },
     "execution_count": 26,
     "metadata": {},
     "output_type": "execute_result"
    }
   ],
   "source": [
    "sim = False\n",
    "track = False\n",
    "if sim == False:\n",
    "    track = True\n",
    "[matter.submit(track=track, sim=sim) for matter in jobs]"
   ]
  },
  {
   "cell_type": "code",
   "execution_count": 27,
   "id": "97c00914",
   "metadata": {},
   "outputs": [
    {
     "data": {
      "text/plain": [
       "[None, None, None]"
      ]
     },
     "execution_count": 27,
     "metadata": {},
     "output_type": "execute_result"
    }
   ],
   "source": [
    "[matter.get_result() for matter in jobs]"
   ]
  },
  {
   "cell_type": "code",
   "execution_count": 28,
   "id": "aa6936ad",
   "metadata": {},
   "outputs": [
    {
     "name": "stdout",
     "output_type": "stream",
     "text": [
      "Wrote file: \"C:\\Users\\Josh\\Projects\\BEConOqtant\\Superlattice\\PatternedLoading\\Data\\NoPatternExpt_rep_0.txt\"\n",
      "Wrote file: \"C:\\Users\\Josh\\Projects\\BEConOqtant\\Superlattice\\PatternedLoading\\Data\\NoPatternExpt_rep_1.txt\"\n",
      "Wrote file: \"C:\\Users\\Josh\\Projects\\BEConOqtant\\Superlattice\\PatternedLoading\\Data\\NoPatternExpt_rep_2.txt\"\n"
     ]
    }
   ],
   "source": [
    "import os\n",
    "home = os.path.expanduser(\"~\")\n",
    "for matter in jobs:\n",
    "    data_path = f\"{home}\\Projects\\BEConOqtant\\Superlattice\\PatternedLoading\\Data\\\\{matter.name}.txt\"\n",
    "    matter.write_to_file(file_path=data_path)"
   ]
  },
  {
   "cell_type": "code",
   "execution_count": null,
   "id": "3452e451",
   "metadata": {},
   "outputs": [],
   "source": []
  }
 ],
 "metadata": {
  "kernelspec": {
   "display_name": "Python 3 (ipykernel)",
   "language": "python",
   "name": "python3"
  },
  "language_info": {
   "codemirror_mode": {
    "name": "ipython",
    "version": 3
   },
   "file_extension": ".py",
   "mimetype": "text/x-python",
   "name": "python",
   "nbconvert_exporter": "python",
   "pygments_lexer": "ipython3",
   "version": "3.11.9"
  }
 },
 "nbformat": 4,
 "nbformat_minor": 5
}
