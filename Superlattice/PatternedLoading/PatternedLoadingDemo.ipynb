{
 "cells": [
  {
   "cell_type": "markdown",
   "id": "585a8f3c",
   "metadata": {},
   "source": [
    "# Patterned Loading\n",
    "This is an implementation of the Patterned Loading feature. For the design specification please see the document Specification.md.\n",
    "\n",
    "Ultimately, these tools will be used to reproduce the Patterned Loading experiments explained in the paper by S. Peil\n",
    "1. Peil, S. & Porto, J. & Tolra, & Laburthe, B. & Obrecht, John & King, B. & Subbotin, M. & Rolston, Steven & Phillips, William. (2003). Patterned loading of a Bose-Einstein condensate into an optical lattice. Phys. Rev. A. 67. 051603. 10.1103/PhysRevA.67.051603. "
   ]
  },
  {
   "cell_type": "code",
   "execution_count": 1,
   "id": "00f5e4ef",
   "metadata": {},
   "outputs": [
    {
     "data": {
      "application/vnd.jupyter.widget-view+json": {
       "model_id": "f76879cfedf64be5ab81dff88fa335af",
       "version_major": 2,
       "version_minor": 0
      },
      "text/plain": [
       "Auth(children=(HBox(children=(Image(value=b'\\x89PNG\\r\\n\\x1a\\n\\x00\\x00\\x00\\rIHDR\\x00\\x00\\x02\\x12\\x00\\x00\\x00\\xc…"
      ]
     },
     "metadata": {},
     "output_type": "display_data"
    }
   ],
   "source": [
    "from oqtant.schemas.quantum_matter import QuantumMatterFactory\n",
    "from oqtant.schemas.quantum_matter import QuantumMatter as qm\n",
    "from oqtant.schemas.output import Gaussian_dist_2D\n",
    "from copy import deepcopy\n",
    "import numpy as np\n",
    "import matplotlib.pyplot as plt\n",
    "from scipy.ndimage import gaussian_filter\n",
    "import scipy.optimize as opt\n",
    "from IPython.display import HTML\n",
    "\n",
    "qmf = QuantumMatterFactory()\n",
    "qmf.get_login()"
   ]
  },
  {
   "cell_type": "code",
   "execution_count": 2,
   "id": "c2668b00",
   "metadata": {},
   "outputs": [
    {
     "name": "stdout",
     "output_type": "stream",
     "text": [
      "Job Limits:\n",
      "╒═══════════════╤═══════════════════╤════════════════════╤════════════════════╕\n",
      "│   Daily Limit │   Daily Remaining │   Standard Credits │   Priority Credits │\n",
      "╞═══════════════╪═══════════════════╪════════════════════╪════════════════════╡\n",
      "│            20 │                20 │                 96 │                  0 │\n",
      "╘═══════════════╧═══════════════════╧════════════════════╧════════════════════╛\n"
     ]
    }
   ],
   "source": [
    "qmf.get_client()"
   ]
  },
  {
   "cell_type": "code",
   "execution_count": 3,
   "id": "d8c893e7",
   "metadata": {},
   "outputs": [],
   "source": [
    "from PatternedLoadingPkg.PatternedLoader import PatternedLoader"
   ]
  },
  {
   "cell_type": "code",
   "execution_count": 4,
   "id": "82109a75",
   "metadata": {},
   "outputs": [
    {
     "name": "stdout",
     "output_type": "stream",
     "text": [
      "short pot: 10.0\n",
      "long pot: 2.0\n"
     ]
    }
   ],
   "source": [
    "pl = PatternedLoader(qmf, \"LongOnly\")\n",
    "\n",
    "s_pot = 10.0 #kHz\n",
    "s_delay = 2. #ms\n",
    "s_rise = 2. #ms also fall\n",
    "s_hold = 2. #ms\n",
    "short = pl.Lattice()\n",
    "short.set_potential(s_pot)\n",
    "short.set_loading_seq(s_delay, s_rise, s_hold)\n",
    "\n",
    "l_pot = 2. #kHz\n",
    "l_delay = 0. #ms\n",
    "l_rise = 2. #ms also fall\n",
    "l_hold = 2. #ms\n",
    "long = pl.Lattice()\n",
    "\n",
    "long.set_potential(l_pot)\n",
    "long.set_loading_seq(l_delay, l_rise, l_hold)\n",
    "\n",
    "pl.set_superlattice(long, short)\n",
    "pl.print_superlattice()"
   ]
  },
  {
   "cell_type": "code",
   "execution_count": 5,
   "id": "7c017cf4",
   "metadata": {},
   "outputs": [],
   "source": [
    "matter = pl.get_matter()"
   ]
  },
  {
   "cell_type": "code",
   "execution_count": 6,
   "id": "4efa07b2",
   "metadata": {},
   "outputs": [
    {
     "data": {
      "image/png": "[encoded data removed]",
      "text/plain": [
       "<Figure size 640x480 with 1 Axes>"
      ]
     },
     "metadata": {},
     "output_type": "display_data"
    }
   ],
   "source": [
    "matter.show_potential(times=[4], include_ideal=False, include_magnetic=False)"
   ]
  },
  {
   "cell_type": "code",
   "execution_count": null,
   "id": "93595102",
   "metadata": {},
   "outputs": [],
   "source": []
  }
 ],
 "metadata": {
  "kernelspec": {
   "display_name": "Python 3 (ipykernel)",
   "language": "python",
   "name": "python3"
  },
  "language_info": {
   "codemirror_mode": {
    "name": "ipython",
    "version": 3
   },
   "file_extension": ".py",
   "mimetype": "text/x-python",
   "name": "python",
   "nbconvert_exporter": "python",
   "pygments_lexer": "ipython3",
   "version": "3.11.9"
  }
 },
 "nbformat": 4,
 "nbformat_minor": 5
}
