{
 "cells": [
  {
   "cell_type": "markdown",
   "id": "dd047f50",
   "metadata": {},
   "source": [
    "# Theory\n",
    "I try out stuff from papers covering trapped BEC Theory. This is me just trying to practically \"get a feel\" of the various parameters involved in trapped BEC theory. \n",
    "\n",
    "Reference Paper:\n",
    "* Dalfovo, F., Giorgini, S., Pitaevskiĭ, L.P., Pitaevskiĭ, L.P., & Stringari, S. (1998). Theory of Bose-Einstein condensation in trapped gases. Reviews of Modern Physics, 71, 463-512. https://journals.aps.org/rmp/abstract/10.1103/RevModPhys.71.463\n"
   ]
  },
  {
   "cell_type": "code",
   "execution_count": null,
   "id": "46973bd6",
   "metadata": {},
   "outputs": [],
   "source": []
  }
 ],
 "metadata": {
  "kernelspec": {
   "display_name": "Python 3 (ipykernel)",
   "language": "python",
   "name": "python3"
  },
  "language_info": {
   "codemirror_mode": {
    "name": "ipython",
    "version": 3
   },
   "file_extension": ".py",
   "mimetype": "text/x-python",
   "name": "python",
   "nbconvert_exporter": "python",
   "pygments_lexer": "ipython3",
   "version": "3.11.9"
  }
 },
 "nbformat": 4,
 "nbformat_minor": 5
}
