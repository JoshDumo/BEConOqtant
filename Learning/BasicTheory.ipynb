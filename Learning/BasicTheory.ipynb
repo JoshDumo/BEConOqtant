{
 "cells": [
  {
   "cell_type": "markdown",
   "id": "dec50bd5",
   "metadata": {},
   "source": [
    "# Theory\n",
    "I try out stuff from papers covering trapped BEC Theory. This is me just trying to practically \"get a feel\" of the various parameters involved in trapped BEC theory. \n",
    "\n",
    "Reference Paper:\n",
    "* Dalfovo, F., Giorgini, S., Pitaevskiĭ, L.P., Pitaevskiĭ, L.P., & Stringari, S. (1998). Theory of Bose-Einstein condensation in trapped gases. Reviews of Modern Physics, 71, 463-512. https://journals.aps.org/rmp/abstract/10.1103/RevModPhys.71.463\n"
   ]
  },
  {
   "cell_type": "code",
   "execution_count": null,
   "id": "62efb953",
   "metadata": {},
   "outputs": [],
   "source": [
    "from oqtant.schemas.quantum_matter import QuantumMatterFactory\n",
    "from oqtant.schemas.quantum_matter import QuantumMatter as qm\n",
    "from oqtant.schemas.output import Gaussian_dist_2D\n",
    "from copy import deepcopy\n",
    "import numpy as np\n",
    "import matplotlib.pyplot as plt\n",
    "from scipy.ndimage import gaussian_filter\n",
    "import scipy.optimize as opt\n",
    "from IPython.display import HTML\n",
    "\n",
    "qmf = QuantumMatterFactory()\n",
    "qmf.get_login()"
   ]
  },
  {
   "cell_type": "code",
   "execution_count": null,
   "id": "6f1cd230",
   "metadata": {},
   "outputs": [],
   "source": [
    "qmf.get_client()"
   ]
  },
  {
   "cell_type": "code",
   "execution_count": null,
   "id": "b7655ec0",
   "metadata": {},
   "outputs": [],
   "source": [
    "matters_it = []\n",
    "\n",
    "# Create a quantum matter object with NO barrier for establishing a baseline BEC distribution\n",
    "matter_baseline = qmf.create_quantum_matter(\n",
    "    temperature=temp,\n",
    "    lifetime=1,\n",
    "    image=\"IN_TRAP\",\n",
    "    name=\"Theory #1: no barrier\",\n",
    ")\n",
    "\n",
    "matters_it.append(matter_baseline)"
   ]
  },
  {
   "cell_type": "code",
   "execution_count": null,
   "id": "2dd7bba6",
   "metadata": {},
   "outputs": [],
   "source": [
    "matter_tof = qmf.create_quantum_matter(\n",
    "    temperature=temp,\n",
    "    lifetime=1,\n",
    "    image=\"TIME_OF_FLIGHT\",\n",
    "    name=\"Theory #1: TOF image for atom number\",\n",
    ")\n",
    "\n",
    "matters_it.append(matter_tof)"
   ]
  },
  {
   "cell_type": "code",
   "execution_count": null,
   "id": "19c666b9",
   "metadata": {},
   "outputs": [],
   "source": [
    "submission = [matter.submit(track=True) for matter in matters_it]"
   ]
  },
  {
   "cell_type": "code",
   "execution_count": null,
   "id": "8d910397",
   "metadata": {},
   "outputs": [],
   "source": [
    "# Get baseline data from the job without a barrier\n",
    "matter_baseline.get_result()\n",
    "im_baseline = matter_baseline.output.get_image_data()"
   ]
  },
  {
   "cell_type": "code",
   "execution_count": null,
   "id": "5cd58cbe",
   "metadata": {},
   "outputs": [],
   "source": [
    "rows, cols = im_baseline.shape\n",
    "\n",
    "pixcal = matter_baseline.output.it_plot.pixcal\n",
    "\n",
    "x = np.linspace(-pixcal * cols / 2, pixcal * cols / 2, cols)\n",
    "y = np.linspace(-pixcal * rows / 2, pixcal * rows / 2, rows)\n",
    "xg, yg = np.meshgrid(x, y)\n",
    "\n",
    "# Fit the experimental image to a 2D Gaussian function (imported at the beginning of the notebook)\n",
    "# Order of imputs in Guassian_dist_2D (after the x-y meshgrid):\n",
    "# amplitude, x_center, y_center, sigma_x, sigma_y, offset\n",
    "initial_guess = [\n",
    "    1,\n",
    "    0,\n",
    "    0,\n",
    "    10,\n",
    "    2,\n",
    "    0,\n",
    "]  # Initial 2D Gaussian parameters guess for the in-trap atom cloud size\n",
    "bl = [0.3, -10, -10, 4, 0.5, -0.2]  # Lower bound for the parameters during fitting\n",
    "bu = [3, 10, 10, 20, 5, 0.2]  # Upper bound for the parameters during fitting\n",
    "\n",
    "popt, _ = opt.curve_fit(\n",
    "    Gaussian_dist_2D, (xg, yg), im_baseline.ravel(), p0=initial_guess, bounds=(bl, bu)\n",
    ")\n",
    "\n",
    "# Print some of the fit parameters\n",
    "sigma_x, sigma_y = (popt[3], popt[4])\n",
    "\n",
    "print(\"Fit parameters: \")\n",
    "print(f\"Sigma-x = {sigma_x:.1f} um\")\n",
    "print(f\"Sigma-y = {sigma_y:.1f} um\")\n",
    "print(f\"Peak optical depth = {popt[0]:.2f}\")\n",
    "\n",
    "# Plot the experimental image\n",
    "matter_baseline.output.plot_it()"
   ]
  },
  {
   "cell_type": "code",
   "execution_count": null,
   "id": "de5424d7",
   "metadata": {},
   "outputs": [],
   "source": [
    "matter_tof.get_result()\n",
    "N_atoms = matter_tof.output.condensed_atom_number\n",
    "print(f\"Condensed atom number: {N_atoms:.0f}\")\n",
    "matter_tof.output.plot_tof()"
   ]
  },
  {
   "cell_type": "code",
   "execution_count": null,
   "id": "ab3cac07",
   "metadata": {},
   "outputs": [],
   "source": [
    "# Define constants, all in SI units\n",
    "hbar = 1.055e-34  # reduced Plank's constant\n",
    "m = 1.443e-25  # mass of Rubidium 87\n",
    "a_s = 95 * 0.529e-10  # the scattering length of rubidium-87\n",
    "\n",
    "# Calculate the peak atom density\n",
    "V = 4 / 3 * np.pi * (1e-6 * sigma_x) * (1e-6 * sigma_y) ** 2  # units of meters^3\n",
    "U = 4 * np.pi * hbar**2 * a_s / m\n",
    "average_density = N_atoms / V\n",
    "peak_density = 2 * average_density\n",
    "print(f\"Peak atom number density in-trap: {1e-6*peak_density:.1E} 1/cm^3\")\n",
    "\n",
    "# Calculate the speed of sound\n",
    "v_s = np.sqrt(peak_density * U / m / 2)\n",
    "print(f\"Speed of sound in BEC: {1e3 * v_s:.2f} mm/s\")"
   ]
  }
 ],
 "metadata": {
  "kernelspec": {
   "display_name": "Python 3 (ipykernel)",
   "language": "python",
   "name": "python3"
  },
  "language_info": {
   "codemirror_mode": {
    "name": "ipython",
    "version": 3
   },
   "file_extension": ".py",
   "mimetype": "text/x-python",
   "name": "python",
   "nbconvert_exporter": "python",
   "pygments_lexer": "ipython3",
   "version": "3.11.9"
  }
 },
 "nbformat": 4,
 "nbformat_minor": 5
}
